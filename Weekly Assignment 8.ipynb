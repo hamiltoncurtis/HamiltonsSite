{
 "cells": [
  {
   "cell_type": "code",
   "execution_count": 1,
   "metadata": {},
   "outputs": [],
   "source": [
    "import csv\n",
    "\n",
    "def make_data_point(line, header):\n",
    "    output = {}\n",
    "    for index, header_item in enumerate(header):\n",
    "        output[header_item] = line[index]\n",
    "    return output\n",
    "\n",
    "with open(\"denver-1.nov.csv\") as inf:\n",
    "    reader = csv.reader(inf)\n",
    "    header = next(reader)\n",
    "    all_data = []\n",
    "    for line in reader:\n",
    "        all_data.append(make_data_point(line, header))"
   ]
  },
  {
   "cell_type": "code",
   "execution_count": 2,
   "metadata": {},
   "outputs": [],
   "source": [
    "from collections import defaultdict\n",
    "\n",
    "byprecinct = defaultdict(list)  \n",
    "for line in all_data:\n",
    "    byprecinct[line[\"precinct\"]].append(line)"
   ]
  },
  {
   "cell_type": "code",
   "execution_count": 47,
   "metadata": {},
   "outputs": [],
   "source": [
    "\n",
    "warning_counter = {}\n",
    "vehicular = 0\n",
    "pedestrian = 0\n",
    "vehicular_total = 0\n",
    "pedestrian_total = 0\n",
    "for precinct in byprecinct:\n",
    "    data_for_precinct = byprecinct[precinct]\n",
    "    \n",
    "    \n",
    "    for kind in data_for_precinct:\n",
    "        # sorting through every stop to check for parameters\n",
    "        if kind['type'] == \"vehicular\":\n",
    "            vehicular_total += 1\n",
    "            if kind['warning_issued'] == 'TRUE':\n",
    "                vehicular += 1\n",
    "        if kind['type'] == \"pedestrian\":\n",
    "            pedestrian_total += 1\n",
    "            if kind['warning_issued'] == 'TRUE':\n",
    "                pedestrian += 1\n",
    "                \n",
    "    # Adding both percentages as values with the stop type serving as the key\n",
    "    warning_counter['vehicular'] = (100 * round(vehicular / vehicular_total, 3))\n",
    "    warning_counter['pedestrian'] = (100 * round(pedestrian / pedestrian_total , 3))"
   ]
  },
  {
   "cell_type": "code",
   "execution_count": 51,
   "metadata": {},
   "outputs": [],
   "source": [
    "import json \n",
    "# Writing data to JSON file\n",
    "with open('PrecinctWarningData.json', 'w') as outfile:\n",
    "    outfile.write(json.dumps({'x': warning_counter['vehicular'],'y': warning_counter['pedestrian']}))"
   ]
  },
  {
   "cell_type": "code",
   "execution_count": 50,
   "metadata": {},
   "outputs": [
    {
     "data": {
      "text/plain": [
       "{'vehicular': 17.1, 'pedestrian': 0.4}"
      ]
     },
     "execution_count": 50,
     "metadata": {},
     "output_type": "execute_result"
    }
   ],
   "source": [
    "warning_counter"
   ]
  },
  {
   "cell_type": "markdown",
   "metadata": {},
   "source": [
    "## Explanation\n",
    "    For this assignment I decided to aggregate the data on the type of stops made and whether a warning was issued during the stop. I first did this by seperating the stops on whether they were vehicular or pedestrian and from there I counted whether a warning was issued. From there I calculated the percentages of the warnings issued among the respective stop types and wrote that to my JSON file."
   ]
  }
 ],
 "metadata": {
  "kernelspec": {
   "display_name": "Python 3",
   "language": "python",
   "name": "python3"
  },
  "language_info": {
   "codemirror_mode": {
    "name": "ipython",
    "version": 3
   },
   "file_extension": ".py",
   "mimetype": "text/x-python",
   "name": "python",
   "nbconvert_exporter": "python",
   "pygments_lexer": "ipython3",
   "version": "3.8.5"
  }
 },
 "nbformat": 4,
 "nbformat_minor": 4
}
